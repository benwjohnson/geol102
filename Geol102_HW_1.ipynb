{
 "cells": [
  {
   "cell_type": "markdown",
   "metadata": {},
   "source": [
    "# Module 1 summative assignment\n",
    "\n",
    "\n",
    "\n",
    "## Calculate the temperature of the Earth! \n",
    "\n",
    "We'll use some simple equations in this part of your assignment to calculate the temperature of the Earth over time. There will be a few questions that you calculate here, and put the answer in canvas. They'll look like: \n",
    "\n",
    "### QX. Here is a question.\n",
    "\n",
    "\n",
    "As mentioned in lecture, all objects absorb and emit radiation. The same is true for a planet, and this can be approximated as \"black body radiation\". \n",
    "\n",
    "So, our first step is to calculate the temperature the surface of the Earth would have without an atmosphere. This is called the \"Effective Temperature\". This is calculated with the following equation: \n",
    "\n",
    "\\begin{equation} \n",
    "T_\\textrm{effective}=\\frac{Lo(1-Ab)}{16\\pi d^2 \\sigma}\n",
    "\\end{equation}\n",
    "\n",
    "Where $Lo$ is the solar luminosity (energy output of the Sun), $Ab$ is the albedo of Earth, $d$ is the distance of the Earth from the Sun, and $\\sigma$ is the Stefan-Boltzman constant. I'll define these below: "
   ]
  },
  {
   "cell_type": "code",
   "execution_count": 4,
   "metadata": {},
   "outputs": [],
   "source": [
    "#Here are some constants we need for our calculations\n",
    "import numpy as np\n",
    "stef_boltz = 5.670374419e-8 # Stefan-Boltzman constant W⋅m−2⋅K−4\n",
    "d = 1.49e11 #distance of the Earth from the Sun, in m\n",
    "Lo = 3.846e26 #luminosity of the Sun, W\n",
    "Ab = 0.3 #Albedo\n",
    "emiss=0.996\n",
    "k_to_c = 273\n"
   ]
  },
  {
   "cell_type": "code",
   "execution_count": 5,
   "metadata": {},
   "outputs": [
    {
     "name": "stdout",
     "output_type": "stream",
     "text": [
      "Effective temperature = 255 (deg K)\n"
     ]
    }
   ],
   "source": [
    "# Calculate the effective temp, that is the temperature of the Earth without an atmosphere. \n",
    "numerator = Lo*(1-Ab)\n",
    "denominator = 16*np.pi*d**2*stef_boltz\n",
    "temp_eff = numerator/denominator\n",
    "temp_eff = temp_eff**(1/4)\n",
    "temp_eff = round(temp_eff)\n",
    "print(f\"Effective temperature = {temp_eff} (deg K)\")\n"
   ]
  },
  {
   "cell_type": "markdown",
   "metadata": {},
   "source": [
    "Convert to deg C"
   ]
  },
  {
   "cell_type": "code",
   "execution_count": 6,
   "metadata": {
    "scrolled": true
   },
   "outputs": [
    {
     "name": "stdout",
     "output_type": "stream",
     "text": [
      "Effective temperature= -18 (deg C)\n"
     ]
    }
   ],
   "source": [
    "tempC = temp_eff - k_to_c\n",
    "print(f\"Effective temperature= {tempC} (deg C)\")"
   ]
  },
  {
   "cell_type": "markdown",
   "metadata": {},
   "source": [
    "This is pretty cold! In fact, that's much colder than the freezing point of water. We know, of course, that the Earth has an atmosphere, with greenhouse gases, that keeps the planet warmer. So, let's add in the effect of our current greenhouse. \n"
   ]
  },
  {
   "cell_type": "code",
   "execution_count": 9,
   "metadata": {
    "scrolled": true
   },
   "outputs": [
    {
     "name": "stdout",
     "output_type": "stream",
     "text": [
      "Surface temperature = 288.0 (deg K)\n",
      "Surface temperature = 15.0 (deg C)\n"
     ]
    }
   ],
   "source": [
    "## Add some info about greenhouse gases. Don't worry too much about these, but if you are\n",
    "#curious, pCO2 and pH2O are the partial pressure of these gases (or amount) in the atmoshpere\n",
    "#while the tao and F variables describe how energy gets absorbed by gases in the atmosphere\n",
    "\n",
    "\n",
    "pCO20 = 33.5 #partial pressure of CO2 today, in Pascals\n",
    "pCO2 = pCO20 \n",
    "Ts0 = 285 #Average surface temperature today, in degrees K \n",
    "#Then, we recalculate the surface temperature below\n",
    "TgCO2 = 2.3*((pCO2/pCO20)**0.364)\n",
    "TgH2O = 29.7 + 0.5*(Ts0-285)\n",
    "\n",
    "Ts = temp_eff + TgCO2 + TgH2O \n",
    "\n",
    "print(f\"Surface temperature = {Ts} (deg K)\")\n",
    "print(f\"Surface temperature = {Ts-k_to_c} (deg C)\")\n"
   ]
  },
  {
   "cell_type": "markdown",
   "metadata": {},
   "source": [
    "### Q1. What is the size of the greenhouse effect on Earth today? That is, what's the difference between the effective temperature and actual surface temperature?\n",
    "\n",
    "(If you want, you can use the space below to do calculations, or, do it by \"hand\")"
   ]
  },
  {
   "cell_type": "code",
   "execution_count": null,
   "metadata": {},
   "outputs": [],
   "source": []
  },
  {
   "cell_type": "markdown",
   "metadata": {},
   "source": [
    "Next, let's quickly see the effect of a really big increase in CO$_2$ on the temperature. Let's say CO$_2$ is 100 times higher: "
   ]
  },
  {
   "cell_type": "code",
   "execution_count": 10,
   "metadata": {},
   "outputs": [
    {
     "name": "stdout",
     "output_type": "stream",
     "text": [
      "Higher CO2 temp = 25 (deg C)\n"
     ]
    }
   ],
   "source": [
    "# Make CO2 100x higher\n",
    "\n",
    "pCO2high = pCO2*100 #We'll redefine P (amount of CO2) to be higher\n",
    "\n",
    "#Then, we recalculate the surface temperature below\n",
    "TgCO2 = 2.3*(pCO2high/pCO20)**0.364\n",
    "TgH2O = 29.7 + 0.5*(Ts-285)\n",
    "\n",
    "Ts_highCO2 = temp_eff + TgCO2 + TgH2O  \n",
    "\n",
    "print(f\"Higher CO2 temp = {round(Ts_highCO2-273)} (deg C)\")\n"
   ]
  },
  {
   "cell_type": "markdown",
   "metadata": {},
   "source": [
    "### Q2. What's the difference in surface temperature between low and 100x CO$_2$? \n",
    "\n",
    "(If you want, you can use the space below to do calculations, or, do it by \"hand\")"
   ]
  },
  {
   "cell_type": "code",
   "execution_count": null,
   "metadata": {},
   "outputs": [],
   "source": []
  },
  {
   "cell_type": "markdown",
   "metadata": {},
   "source": [
    "But, as we've learned, earilier in Earth history, the Sun was much less bright. In fact, about 4 billion years ago, the Sun was only 70% as bright as it is today. In this next section, we'll calculate what kind of green house levels we'd need to sustain a non-frozen planet.\n",
    "\n",
    "First: define a variable for the Sun's Luminosity that's 70% of modern: "
   ]
  },
  {
   "cell_type": "code",
   "execution_count": 11,
   "metadata": {},
   "outputs": [],
   "source": [
    "# Define your variable here"
   ]
  },
  {
   "cell_type": "markdown",
   "metadata": {},
   "source": [
    "Ok great. Now, let's re-calculate the Effective temperature we used above, plugging in the lower solar luminosity. I'll lay out the equation below, and you need to put your variable for lower luminosity in the right spot."
   ]
  },
  {
   "cell_type": "code",
   "execution_count": 12,
   "metadata": {},
   "outputs": [
    {
     "name": "stdout",
     "output_type": "stream",
     "text": [
      "Effective temperature at lower luminosity= -39 (deg C)\n"
     ]
    }
   ],
   "source": [
    "#This is the same information as above, but substitute your variable for lower luminosity in\n",
    "numerator = Lo_lower*(1-Ab)\n",
    "denominator = 16*np.pi*d**2*stef_boltz\n",
    "temp_eff_lowLo = numerator/denominator\n",
    "temp_eff_lowLo = temp_eff_lowLo**(1/4)\n",
    "temp_eff_lowLo = round(temp_eff_lowLo)\n",
    "print(f\"Effective temperature at lower luminosity= {temp_eff_lowLo-k_to_c} (deg C)\")\n"
   ]
  },
  {
   "cell_type": "markdown",
   "metadata": {},
   "source": [
    "### Q3. What's the difference in effective temperature for the lower luminosity case compared to our initial value? \n",
    "\n",
    "(If you want, you can use the space below to do calculations, or, do it by \"hand\")"
   ]
  },
  {
   "cell_type": "code",
   "execution_count": null,
   "metadata": {},
   "outputs": [],
   "source": []
  },
  {
   "cell_type": "markdown",
   "metadata": {},
   "source": [
    "This should be a LOT colder! And yet, as we learned in class, there is not evidence that the Earth was super duper cold early in its history. For this last question, copy the code above to the cell below to figure out how much CO$_2$ you'd need in the atmosphere to keep the Earth above it's freezing point (273 K, or 0 C)"
   ]
  },
  {
   "cell_type": "code",
   "execution_count": null,
   "metadata": {},
   "outputs": [],
   "source": [
    "# Use this cell to copy the appropriate section of code above, change the amount of CO2,\n",
    "# and calculate the surface temperature given a lower luminosity.\n",
    "\n"
   ]
  },
  {
   "cell_type": "markdown",
   "metadata": {},
   "source": [
    "### Q4. How much CO$_2$ do you need to keep the Earth above freezing if the Sun is at 70% of its current luminosity? Give your answer in terms of how many times more CO2 than modern you need (e.g., 2x modern, 10x modern, etc.)\n",
    "\n"
   ]
  },
  {
   "cell_type": "code",
   "execution_count": null,
   "metadata": {},
   "outputs": [],
   "source": []
  }
 ],
 "metadata": {
  "kernelspec": {
   "display_name": "Python 3",
   "language": "python",
   "name": "python3"
  },
  "language_info": {
   "codemirror_mode": {
    "name": "ipython",
    "version": 3
   },
   "file_extension": ".py",
   "mimetype": "text/x-python",
   "name": "python",
   "nbconvert_exporter": "python",
   "pygments_lexer": "ipython3",
   "version": "3.8.5"
  },
  "widgets": {
   "application/vnd.jupyter.widget-state+json": {
    "state": {},
    "version_major": 2,
    "version_minor": 0
   }
  }
 },
 "nbformat": 4,
 "nbformat_minor": 4
}
